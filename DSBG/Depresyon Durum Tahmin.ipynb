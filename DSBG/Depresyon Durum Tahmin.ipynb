{
 "cells": [
  {
   "cell_type": "code",
   "execution_count": 11,
   "id": "2b2dc010-9078-4b49-88c6-8ab06e0e6b9e",
   "metadata": {},
   "outputs": [],
   "source": [
    "import pandas as pd\n",
    "from sklearn.model_selection import train_test_split\n",
    "from sklearn.preprocessing import LabelEncoder\n",
    "from sklearn.ensemble import RandomForestClassifier\n",
    "from sklearn.metrics import accuracy_score\n"
   ]
  },
  {
   "cell_type": "code",
   "execution_count": 15,
   "id": "f466f92e-79eb-403e-b30e-88a8f8d66ae5",
   "metadata": {},
   "outputs": [
    {
     "name": "stdout",
     "output_type": "stream",
     "text": [
      "scores.csv dosyası bulundu. Veri çerçevesi oluşturuldu.\n",
      "        number  days  gender    age  afftype  melanch  inpatient    edu  \\\n",
      "0  condition_1    11       2  35-39      2.0      2.0        2.0   6-10   \n",
      "1  condition_2    18       2  40-44      1.0      2.0        2.0   6-10   \n",
      "2  condition_3    13       1  45-49      2.0      2.0        2.0   6-10   \n",
      "3  condition_4    13       2  25-29      2.0      2.0        2.0  11-15   \n",
      "4  condition_5    13       2  50-54      2.0      2.0        2.0  11-15   \n",
      "\n",
      "   marriage  work  madrs1  madrs2  \n",
      "0       1.0   2.0    19.0    19.0  \n",
      "1       2.0   2.0    24.0    11.0  \n",
      "2       2.0   2.0    24.0    25.0  \n",
      "3       1.0   1.0    20.0    16.0  \n",
      "4       2.0   2.0    26.0    26.0  \n"
     ]
    }
   ],
   "source": [
    "import os\n",
    "\n",
    "# Klasör yolunu belirtin\n",
    "folder_path = r\"C:\\Users\\Talha\\Downloads\\condition\"\n",
    "\n",
    "# Dosya ve klasörleri kontrol etme\n",
    "if os.path.isfile(os.path.join(folder_path, \"scores.csv\")):\n",
    "    # scores.csv dosyasını okuma\n",
    "    data = pd.read_csv(os.path.join(folder_path, \"scores.csv\"))\n",
    "    print(\"scores.csv dosyası bulundu. Veri çerçevesi oluşturuldu.\")\n",
    "    print(data.head())\n",
    "elif all(os.path.isdir(os.path.join(folder_path, subfolder)) for subfolder in [\"condition\", \"control\"]):\n",
    "    # condition ve control klasörlerini birleştirme\n",
    "    dfs = []\n",
    "    for subfolder in [\"condition\", \"control\"]:\n",
    "        subfolder_path = os.path.join(folder_path, subfolder)\n",
    "        excel_files = [os.path.join(subfolder_path, file) for file in os.listdir(subfolder_path) if file.endswith(\".xlsx\")]\n",
    "        for file in excel_files:\n",
    "            df = pd.read_excel(file)\n",
    "            dfs.append(df)\n",
    "    merged_df = pd.concat(dfs, ignore_index=True)\n",
    "    print(\"condition ve control klasörlerinden veriler başarıyla birleştirildi.\")\n",
    "    print(merged_df.head())\n",
    "else:\n",
    "    print(\"Belirtilen klasörde ne scores.csv dosyası ne de condition ve control klasörleri bulundu.\")\n"
   ]
  },
  {
   "cell_type": "code",
   "execution_count": 16,
   "id": "4bcdd4ae-6beb-4de5-9ecd-14ab5b41fa2f",
   "metadata": {},
   "outputs": [
    {
     "name": "stdout",
     "output_type": "stream",
     "text": [
      "        number  days  gender    age  afftype  melanch  inpatient    edu  \\\n",
      "0  condition_1    11       2  35-39      2.0      2.0        2.0   6-10   \n",
      "1  condition_2    18       2  40-44      1.0      2.0        2.0   6-10   \n",
      "2  condition_3    13       1  45-49      2.0      2.0        2.0   6-10   \n",
      "3  condition_4    13       2  25-29      2.0      2.0        2.0  11-15   \n",
      "4  condition_5    13       2  50-54      2.0      2.0        2.0  11-15   \n",
      "\n",
      "   marriage  work  madrs1  madrs2  \n",
      "0       1.0   2.0    19.0    19.0  \n",
      "1       2.0   2.0    24.0    11.0  \n",
      "2       2.0   2.0    24.0    25.0  \n",
      "3       1.0   1.0    20.0    16.0  \n",
      "4       2.0   2.0    26.0    26.0  \n",
      "<class 'pandas.core.frame.DataFrame'>\n",
      "RangeIndex: 55 entries, 0 to 54\n",
      "Data columns (total 12 columns):\n",
      " #   Column     Non-Null Count  Dtype  \n",
      "---  ------     --------------  -----  \n",
      " 0   number     55 non-null     object \n",
      " 1   days       55 non-null     int64  \n",
      " 2   gender     55 non-null     int64  \n",
      " 3   age        55 non-null     object \n",
      " 4   afftype    23 non-null     float64\n",
      " 5   melanch    20 non-null     float64\n",
      " 6   inpatient  23 non-null     float64\n",
      " 7   edu        53 non-null     object \n",
      " 8   marriage   23 non-null     float64\n",
      " 9   work       23 non-null     float64\n",
      " 10  madrs1     23 non-null     float64\n",
      " 11  madrs2     23 non-null     float64\n",
      "dtypes: float64(7), int64(2), object(3)\n",
      "memory usage: 5.3+ KB\n",
      "None\n"
     ]
    }
   ],
   "source": [
    "print(data.head())\n",
    "print(data.info())\n"
   ]
  },
  {
   "cell_type": "code",
   "execution_count": 21,
   "id": "2bc2d5a5-da58-4746-a6b9-9251b11fb3fc",
   "metadata": {},
   "outputs": [
    {
     "name": "stdout",
     "output_type": "stream",
     "text": [
      "number       0\n",
      "days         0\n",
      "gender       0\n",
      "age          0\n",
      "afftype      0\n",
      "melanch      0\n",
      "inpatient    0\n",
      "edu          2\n",
      "marriage     0\n",
      "work         0\n",
      "madrs1       0\n",
      "madrs2       0\n",
      "dtype: int64\n"
     ]
    }
   ],
   "source": [
    "# Sayısal sütunların ortalama değerleri ile eksik değerleri doldurma\n",
    "numeric_columns = data.select_dtypes(include=['int', 'float']).columns\n",
    "data[numeric_columns] = data[numeric_columns].fillna(data[numeric_columns].mean())\n",
    "\n",
    "# Veri setindeki eksik değerleri kontrol etme\n",
    "print(data.isnull().sum())\n"
   ]
  },
  {
   "cell_type": "code",
   "execution_count": 22,
   "id": "e7b5e405-9bb3-4752-8235-291db668bd96",
   "metadata": {},
   "outputs": [
    {
     "name": "stdout",
     "output_type": "stream",
     "text": [
      "number       0\n",
      "days         0\n",
      "gender       0\n",
      "age          0\n",
      "afftype      0\n",
      "melanch      0\n",
      "inpatient    0\n",
      "edu          0\n",
      "marriage     0\n",
      "work         0\n",
      "madrs1       0\n",
      "madrs2       0\n",
      "dtype: int64\n"
     ]
    }
   ],
   "source": [
    "\n",
    "# \"edu\" sütunundaki eksik değerleri en sık görülen değerle doldurma\n",
    "most_common_edu = data['edu'].mode()[0]\n",
    "data['edu'].fillna(most_common_edu, inplace=True)\n",
    "\n",
    "# Veri setindeki eksik değerleri kontrol etme\n",
    "print(data.isnull().sum())\n"
   ]
  },
  {
   "cell_type": "code",
   "execution_count": null,
   "id": "a31f4768-8d9b-4711-b41a-c3c54d02ddd2",
   "metadata": {},
   "outputs": [],
   "source": []
  }
 ],
 "metadata": {
  "kernelspec": {
   "display_name": "Python 3 (ipykernel)",
   "language": "python",
   "name": "python3"
  },
  "language_info": {
   "codemirror_mode": {
    "name": "ipython",
    "version": 3
   },
   "file_extension": ".py",
   "mimetype": "text/x-python",
   "name": "python",
   "nbconvert_exporter": "python",
   "pygments_lexer": "ipython3",
   "version": "3.11.7"
  }
 },
 "nbformat": 4,
 "nbformat_minor": 5
}
