{
 "cells": [
  {
   "cell_type": "code",
   "execution_count": 1,
   "id": "cf19b08c",
   "metadata": {},
   "outputs": [
    {
     "name": "stdout",
     "output_type": "stream",
     "text": [
      "[1, 'a', 'cat', 2, 3, 'dog', 4, 5]\n"
     ]
    }
   ],
   "source": [
    "def flatten(lst):\n",
    "    flat_list = []\n",
    "    for item in lst:\n",
    "        if isinstance(item, list):\n",
    "            flat_list.extend(flatten(item))\n",
    "        else:\n",
    "            flat_list.append(item)\n",
    "    return flat_list\n",
    "\n",
    "# Test\n",
    "input_list = [[1,'a',['cat'],2],[[[3]],'dog'],4,5]\n",
    "output_list = flatten(input_list)\n",
    "print(output_list)\n"
   ]
  },
  {
   "cell_type": "code",
   "execution_count": 4,
   "id": "52f4eeb3",
   "metadata": {},
   "outputs": [
    {
     "name": "stdout",
     "output_type": "stream",
     "text": [
      "[[7, 6, 5], [4, 3], [2, 1]]\n"
     ]
    }
   ],
   "source": [
    "def reverse_elements(lst):\n",
    "    reversed_list = []\n",
    "    for item in lst[::-1]: \n",
    "        if isinstance(item, list):\n",
    "            reversed_list.append(reverse_elements(item))  \n",
    "        else:\n",
    "            reversed_list.append(item)\n",
    "    return reversed_list\n",
    "\n",
    "# Test\n",
    "input_list = [[1, 2], [3, 4], [5, 6, 7]]\n",
    "output_list = reverse_elements(input_list)\n",
    "print(output_list)\n"
   ]
  },
  {
   "cell_type": "code",
   "execution_count": null,
   "id": "089d846b",
   "metadata": {},
   "outputs": [],
   "source": []
  }
 ],
 "metadata": {
  "kernelspec": {
   "display_name": "Python 3 (ipykernel)",
   "language": "python",
   "name": "python3"
  },
  "language_info": {
   "codemirror_mode": {
    "name": "ipython",
    "version": 3
   },
   "file_extension": ".py",
   "mimetype": "text/x-python",
   "name": "python",
   "nbconvert_exporter": "python",
   "pygments_lexer": "ipython3",
   "version": "3.11.5"
  }
 },
 "nbformat": 4,
 "nbformat_minor": 5
}
